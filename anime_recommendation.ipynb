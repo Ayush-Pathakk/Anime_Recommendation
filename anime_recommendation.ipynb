{
 "cells": [
  {
   "cell_type": "code",
   "execution_count": null,
   "id": "b5f3e544",
   "metadata": {},
   "outputs": [],
   "source": [
    "#import libraries\n",
    "import numpy as np\n",
    "import pandas as pd\n",
    "import difflib\n",
    "from sklearn.feature_extraction.text import TfidfVectorizer\n",
    "from sklearn.metrics.pairwise import cosine_similarity"
   ]
  },
  {
   "cell_type": "code",
   "execution_count": null,
   "id": "d2a9fb57",
   "metadata": {},
   "outputs": [],
   "source": [
    "#data collection and proccessing\n",
    "anime_data = pd.read_csv(r\"C:\\Users\\TOSHIBA\\python\\60hrcourse\\projects\\anime recommendation\\anime.csv\")\n",
    "anime_data.head()"
   ]
  },
  {
   "cell_type": "code",
   "execution_count": null,
   "id": "0d32310f",
   "metadata": {},
   "outputs": [],
   "source": [
    "print(type(anime_data))\n"
   ]
  },
  {
   "cell_type": "code",
   "execution_count": null,
   "id": "3f118159",
   "metadata": {},
   "outputs": [],
   "source": [
    "anime_data.shape"
   ]
  },
  {
   "cell_type": "code",
   "execution_count": null,
   "id": "c326fb6e",
   "metadata": {},
   "outputs": [],
   "source": [
    "anime_data.describe()"
   ]
  },
  {
   "cell_type": "code",
   "execution_count": null,
   "id": "84e28c6e",
   "metadata": {},
   "outputs": [],
   "source": [
    "# selecting relevant feature from data\n",
    "selected_feature = [\"genre\",\"episodes\",\"type\",\"rating\",\"members\"]\n",
    "print(selected_feature)"
   ]
  },
  {
   "cell_type": "code",
   "execution_count": null,
   "id": "16b7127c",
   "metadata": {},
   "outputs": [],
   "source": [
    "# replacing the null values\n",
    "for feature in selected_feature :\n",
    "    anime_data[feature] = anime_data[feature].fillna(\"\")"
   ]
  },
  {
   "cell_type": "code",
   "execution_count": null,
   "id": "5a4fdb7f",
   "metadata": {},
   "outputs": [],
   "source": [
    "# combining all the selected features\n",
    "combined_features = (anime_data[\"genre\"].astype(str) + \" \" + anime_data[\"episodes\"].astype(str) + \" \" +anime_data[\"type\"].astype(str) + \" \" +anime_data[\"rating\"].astype(str) + \" \" +anime_data[\"members\"].astype(str))\n",
    "print(combined_features.head())\n"
   ]
  },
  {
   "cell_type": "code",
   "execution_count": null,
   "id": "bd52c047",
   "metadata": {},
   "outputs": [],
   "source": [
    "# converting the text data to feature vectors\n",
    "vectorizer = TfidfVectorizer()"
   ]
  },
  {
   "cell_type": "code",
   "execution_count": null,
   "id": "df8c2d2f",
   "metadata": {},
   "outputs": [],
   "source": [
    "feature_vector  = vectorizer.fit_transform(combined_features)\n",
    "print(feature_vector)"
   ]
  },
  {
   "cell_type": "code",
   "execution_count": null,
   "id": "31701339",
   "metadata": {},
   "outputs": [],
   "source": [
    "# using CO-SINE SIMILARITY TO GET SCORE \n",
    "similarity = cosine_similarity(feature_vector)\n",
    "similarity.shape"
   ]
  },
  {
   "cell_type": "code",
   "execution_count": null,
   "id": "9f8732f6",
   "metadata": {},
   "outputs": [],
   "source": [
    "# getting the anime name from user \n",
    "anime_name = input(\" whats your favourite anime : \")"
   ]
  },
  {
   "cell_type": "code",
   "execution_count": null,
   "id": "15345c7d",
   "metadata": {},
   "outputs": [],
   "source": [
    "# creating the list of all movie names given \n",
    "list_titles = anime_data['name'].tolist()\n",
    "# print(list_titles)"
   ]
  },
  {
   "cell_type": "code",
   "execution_count": null,
   "id": "926abede",
   "metadata": {},
   "outputs": [],
   "source": [
    "# finding the close match for the anime given by users\n",
    "find_match = difflib.get_close_matches(anime_name , list_titles)\n",
    "print(find_match)"
   ]
  },
  {
   "cell_type": "code",
   "execution_count": null,
   "id": "39819ae2",
   "metadata": {},
   "outputs": [],
   "source": [
    "close_match  = find_match[0]\n",
    "print(close_match)"
   ]
  },
  {
   "cell_type": "code",
   "execution_count": null,
   "id": "d834c20f",
   "metadata": {},
   "outputs": [],
   "source": [
    "# finding the index of anime with the title\n",
    "index_anime = anime_data[anime_data.name == close_match]['anime_id'].values[0]\n",
    "print(index_anime)"
   ]
  },
  {
   "cell_type": "code",
   "execution_count": null,
   "id": "c13d2c1a",
   "metadata": {},
   "outputs": [],
   "source": [
    "# getting the similarity scores\n",
    "similarity_score = list(enumerate(similarity[index_anime]))\n",
    "# print(similarity_score)"
   ]
  },
  {
   "cell_type": "code",
   "execution_count": null,
   "id": "01b84d4b",
   "metadata": {},
   "outputs": [],
   "source": [
    "# sorting the movies based on similarity score \n",
    "sorted_anime = sorted(similarity_score, key = lambda x:x[1] , reverse = True)\n",
    "print(sorted_anime)"
   ]
  },
  {
   "cell_type": "markdown",
   "id": "d8fc9489",
   "metadata": {},
   "source": [
    "Anime Recommendation System"
   ]
  },
  {
   "cell_type": "code",
   "execution_count": null,
   "id": "a37b894b",
   "metadata": {},
   "outputs": [],
   "source": [
    "# print the name of similar anime based on index\n",
    "print(\"anime suggested for you : \\n\")\n",
    "\n",
    "i = 1\n",
    "\n",
    "for anime in sorted_anime:\n",
    "    index = anime[0]\n",
    "    title_from_index = anime_data[anime_data.index==index]['name'].values[0]\n",
    "\n",
    "    if(i<10):\n",
    "        print(i,\".\", title_from_index)\n",
    "        i += 1"
   ]
  },
  {
   "cell_type": "markdown",
   "id": "a38585b6",
   "metadata": {},
   "source": [
    "Saving the model"
   ]
  },
  {
   "cell_type": "code",
   "execution_count": null,
   "id": "9104946e",
   "metadata": {},
   "outputs": [],
   "source": [
    "import pickle\n",
    "\n",
    "filename  = 'anime_recommendation.sav'\n",
    "pickle.dump(vectorizer, open(filename,'wb'))\n",
    "\n",
    "filename = 'similarity.pkl'\n",
    "pickle.dump(similarity, open(filename,'wb'))"
   ]
  },
  {
   "cell_type": "code",
   "execution_count": null,
   "id": "47865b39",
   "metadata": {},
   "outputs": [],
   "source": [
    "loaded_vectorizer = pickle.load(open(r'C:\\Users\\TOSHIBA\\python\\60hrcourse\\projects\\anime recommendation\\anime_recommendation.sav','rb'))"
   ]
  },
  {
   "cell_type": "code",
   "execution_count": null,
   "id": "d7047bfa",
   "metadata": {},
   "outputs": [],
   "source": [
    "with open('similarity.pkl', 'rb') as f:\n",
    "    sim_test = pickle.load(f)\n",
    "\n",
    "print(sim_test.shape)  # should be (number_of_anime, number_of_anime)\n"
   ]
  },
  {
   "cell_type": "code",
   "execution_count": null,
   "id": "61f8fb53",
   "metadata": {},
   "outputs": [],
   "source": [
    "anime_name = input(\" whats your favourite anime : \")\n",
    "\n",
    "list_titles = anime_data['name'].tolist()\n",
    "\n",
    "find_match = difflib.get_close_matches(anime_name , list_titles)\n",
    "# print closest match too\n",
    "close_match  = find_match[0]\n",
    "\n",
    "index_anime = anime_data[anime_data.name == close_match]['anime_id'].values[0]\n",
    "\n",
    "similarity_score = list(enumerate(similarity[index_anime]))\n",
    "\n",
    "sorted_anime = sorted(similarity_score, key = lambda x:x[1] , reverse = True)\n",
    "print(\"Did you mean:\", close_match)\n",
    "print(\"Anime suggested for you : \\n\")\n",
    "\n",
    "i = 1\n",
    "\n",
    "for anime in sorted_anime:\n",
    "    index = anime[0]\n",
    "    title_from_index = anime_data[anime_data.index==index]['name'].values[0]\n",
    "\n",
    "    if(i<10):\n",
    "        print(i,\".\", title_from_index)\n",
    "        i += 1"
   ]
  },
  {
   "cell_type": "code",
   "execution_count": null,
   "id": "af90f558",
   "metadata": {},
   "outputs": [],
   "source": []
  }
 ],
 "metadata": {
  "kernelspec": {
   "display_name": "Python 3",
   "language": "python",
   "name": "python3"
  },
  "language_info": {
   "codemirror_mode": {
    "name": "ipython",
    "version": 3
   },
   "file_extension": ".py",
   "mimetype": "text/x-python",
   "name": "python",
   "nbconvert_exporter": "python",
   "pygments_lexer": "ipython3",
   "version": "3.13.2"
  }
 },
 "nbformat": 4,
 "nbformat_minor": 5
}
